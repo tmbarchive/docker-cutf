{
 "cells": [
  {
   "cell_type": "code",
   "execution_count": 2,
   "metadata": {
    "collapsed": false
   },
   "outputs": [
    {
     "name": "stderr",
     "output_type": "stream",
     "text": [
      "/usr/local/lib/python2.7/dist-packages/matplotlib/font_manager.py:273: UserWarning: Matplotlib is building the font cache using fc-list. This may take a moment.\n",
      "  warnings.warn('Matplotlib is building the font cache using fc-list. This may take a moment.')\n"
     ]
    },
    {
     "name": "stdout",
     "output_type": "stream",
     "text": [
      "Populating the interactive namespace from numpy and matplotlib\n"
     ]
    }
   ],
   "source": [
    "%pylab inline"
   ]
  },
  {
   "cell_type": "code",
   "execution_count": 1,
   "metadata": {
    "collapsed": false
   },
   "outputs": [],
   "source": [
    "import sys\n",
    "import os\n",
    "import os.path\n",
    "import h5py\n",
    "import tensorflow as tf\n",
    "slim = tf.contrib.slim\n",
    "losses = slim.losses\n",
    "ops = slim.ops\n",
    "import tfndlstm as ndlstm\n",
    "import tfspecs as specs\n",
    "from urllib2 import urlopen"
   ]
  },
  {
   "cell_type": "code",
   "execution_count": 3,
   "metadata": {
    "collapsed": true
   },
   "outputs": [],
   "source": [
    "url = \"http://www.tmbdev.net/ocrdata-hdf5/mnist.h5\"\n",
    "if not os.path.exists(\"mnist.h5\"):\n",
    "    data = urlopen(url).read()\n",
    "    with open(\"mnist.h5\", \"wb\") as stream:\n",
    "        stream.write(data)"
   ]
  },
  {
   "cell_type": "code",
   "execution_count": 17,
   "metadata": {
    "collapsed": false
   },
   "outputs": [
    {
     "name": "stdout",
     "output_type": "stream",
     "text": [
      "mnist.h5\n",
      "(60000, 28, 28, 1) 0.0 1.0\n",
      "(60000,) 0 9\n",
      "mnist.h5\n",
      "(10000, 28, 28, 1) 0.0 1.0\n",
      "(10000,) 0 9\n"
     ]
    }
   ],
   "source": [
    "from collections import namedtuple\n",
    "Dataset = namedtuple(\"Dataset\", \"images classes size\")\n",
    "\n",
    "def loadh5(fname, prefix=\"\"):\n",
    "    h5 = h5py.File(fname)\n",
    "    images = array(h5[prefix+\"images\"], \"f\")\n",
    "    images.shape = images.shape + (1,)\n",
    "    labels = array(h5[prefix+\"labels\"], \"i\")\n",
    "    del h5\n",
    "    print fname\n",
    "    print images.shape, amin(images), amax(images)\n",
    "    print labels.shape, amin(labels), amax(labels)\n",
    "    return Dataset(images, labels, len(images))\n",
    "\n",
    "train = loadh5(\"mnist.h5\")\n",
    "test = loadh5(\"mnist.h5\", \"test_\")"
   ]
  },
  {
   "cell_type": "code",
   "execution_count": 18,
   "metadata": {
    "collapsed": false
   },
   "outputs": [],
   "source": [
    "with specs.ops:\n",
    "    model = Cr(32, 3) | Mp(2) | Cr(64, 3) | Mp(2) | Flat | Fr(100) | Fl(10)"
   ]
  },
  {
   "cell_type": "code",
   "execution_count": 23,
   "metadata": {
    "collapsed": false
   },
   "outputs": [],
   "source": [
    "sess = tf.InteractiveSession()\n",
    "\n",
    "inputs = tf.placeholder(tf.float32, [None, 28, 28, 1])\n",
    "labels = tf.placeholder(tf.int32, [None])\n",
    "\n",
    "outputs = model.funcall(inputs)\n",
    "\n",
    "targets = tf.one_hot(labels, 10, 1.0, 0.0)\n",
    "loss = tf.reduce_sum(tf.square(targets-tf.nn.sigmoid(outputs)))\n",
    "optimizer = tf.train.AdamOptimizer(1e-4)\n",
    "train_op = optimizer.minimize(loss)\n",
    "\n",
    "errors = tf.not_equal(tf.argmax(outputs,1), tf.argmax(targets,1))\n",
    "nerrors = tf.reduce_sum(tf.cast(errors, tf.float32))\n",
    "\n",
    "sess.run(tf.initialize_all_variables())"
   ]
  },
  {
   "cell_type": "code",
   "execution_count": 24,
   "metadata": {
    "collapsed": true
   },
   "outputs": [],
   "source": [
    "def train_epoch(train=train, bs=20):\n",
    "    total = 0\n",
    "    count = 0\n",
    "    for i in range(0, train.size, bs):\n",
    "        batch_images = train.images[i:i+bs]\n",
    "        batch_classes = train.classes[i:i+bs]\n",
    "        feed_dict = {\n",
    "            inputs: batch_images,\n",
    "            labels: batch_classes,\n",
    "        }\n",
    "        k, _ = sess.run([nerrors, train_op], feed_dict=feed_dict)\n",
    "        total += k\n",
    "        count += len(batch_images)\n",
    "    training_error = total * 1.0 / count\n",
    "    return count, training_error"
   ]
  },
  {
   "cell_type": "code",
   "execution_count": 28,
   "metadata": {
    "collapsed": true
   },
   "outputs": [],
   "source": [
    "def evaluate(test=test):\n",
    "    bs = 1000\n",
    "    total = 0\n",
    "    for i in range(0, test.size, bs):\n",
    "        batch_images = test[0][i:i+bs]\n",
    "        batch_classes = test[1][i:i+bs]\n",
    "        feed_dict = {\n",
    "            inputs: batch_images,\n",
    "            labels: batch_classes,\n",
    "        }\n",
    "        k, = sess.run([nerrors], feed_dict=feed_dict)\n",
    "        total += k\n",
    "    test_error = total * 1.0 / test.size\n",
    "    return total, test_error"
   ]
  },
  {
   "cell_type": "code",
   "execution_count": null,
   "metadata": {
    "collapsed": false
   },
   "outputs": [
    {
     "name": "stdout",
     "output_type": "stream",
     "text": [
      "0 0.0234666666667 0.02\n",
      "1 0.0177166666667 0.0173\n"
     ]
    }
   ],
   "source": [
    "for epoch in range(100):\n",
    "    _, training_err = train_epoch()\n",
    "    _, testing_err = evaluate()\n",
    "    print epoch, training_err, testing_err"
   ]
  },
  {
   "cell_type": "code",
   "execution_count": null,
   "metadata": {
    "collapsed": true
   },
   "outputs": [],
   "source": []
  }
 ],
 "metadata": {
  "kernelspec": {
   "display_name": "Python 2",
   "language": "python",
   "name": "python2"
  },
  "language_info": {
   "codemirror_mode": {
    "name": "ipython",
    "version": 2
   },
   "file_extension": ".py",
   "mimetype": "text/x-python",
   "name": "python",
   "nbconvert_exporter": "python",
   "pygments_lexer": "ipython2",
   "version": "2.7.6"
  }
 },
 "nbformat": 4,
 "nbformat_minor": 0
}
